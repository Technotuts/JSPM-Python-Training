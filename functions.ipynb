{
 "cells": [
  {
   "cell_type": "code",
   "execution_count": null,
   "metadata": {},
   "outputs": [],
   "source": [
    "#str = \"abcdefghijklmnopqrstuvwxyz\"\n",
    "#expected output = [abc, bcd,cde,def,efg,fgh,ghi,......]\n"
   ]
  },
  {
   "cell_type": "code",
   "execution_count": null,
   "metadata": {},
   "outputs": [],
   "source": [
    "#find if a number is an Armstrong number"
   ]
  },
  {
   "cell_type": "code",
   "execution_count": null,
   "metadata": {},
   "outputs": [],
   "source": []
  },
  {
   "cell_type": "code",
   "execution_count": null,
   "metadata": {},
   "outputs": [],
   "source": []
  },
  {
   "cell_type": "code",
   "execution_count": null,
   "metadata": {},
   "outputs": [],
   "source": []
  },
  {
   "cell_type": "code",
   "execution_count": null,
   "metadata": {},
   "outputs": [],
   "source": []
  },
  {
   "cell_type": "code",
   "execution_count": null,
   "metadata": {},
   "outputs": [],
   "source": []
  },
  {
   "cell_type": "code",
   "execution_count": 12,
   "metadata": {},
   "outputs": [
    {
     "name": "stdout",
     "output_type": "stream",
     "text": [
      "['abc', 'bcd', 'cde', 'def', 'efg', 'fgh', 'ghi', 'hij', 'ijk', 'jkl', 'klm', 'lmn', 'mno', 'nop', 'opq', 'pqr', 'qrs', 'rst', 'stu', 'tuv', 'uvw', 'vwx', 'wxy', 'xyz', 'yz']\n"
     ]
    }
   ],
   "source": [
    "str = \"abcdefghijklmnopqrstuvwxyz\"\n",
    "\n",
    "list = []\n",
    "\n",
    "for i in range(len(str)-1):\n",
    "    list.append(str[i:i+3])\n",
    "        \n",
    "    \n",
    "print(list)\n"
   ]
  },
  {
   "cell_type": "code",
   "execution_count": 8,
   "metadata": {},
   "outputs": [
    {
     "name": "stdout",
     "output_type": "stream",
     "text": [
      "The number 8208 is an armstrong number\n"
     ]
    }
   ],
   "source": [
    "num = input(\"Enter a Number: \")\n",
    "\n",
    "numlist = [num[i] for i in (range(len(num)))]\n",
    "#print(numlist)\n",
    "power = len(num)\n",
    "#print(power)\n",
    "sum = 0\n",
    "for i in range(0, power):\n",
    "    sum += int(numlist[i])**power\n",
    "\n",
    "#print(sum)\n",
    "if(sum == int(num)):\n",
    "     print(f'The number {num} is an armstrong number')\n",
    "else:\n",
    "    print(f'This number i.e {num} is not an armstrong number')\n",
    "    "
   ]
  },
  {
   "cell_type": "code",
   "execution_count": 3,
   "metadata": {},
   "outputs": [
    {
     "name": "stdout",
     "output_type": "stream",
     "text": [
      "[0, 1, 2, 3, 4, 5, 6, 7, 8, 9, 153, 370, 371, 407, 1634, 8208, 9474, 54748, 92727, 93084]\n"
     ]
    }
   ],
   "source": [
    "armstrong = []\n",
    "for num in range(100000):\n",
    "    strnum = str(num)\n",
    "    \n",
    "    numlist = [strnum[i] for i in (range(len(strnum)))]\n",
    "#print(numlist)\n",
    "    power = len(strnum)\n",
    "#print(power)\n",
    "    sum = 0\n",
    "    for i in range(0, power):\n",
    "        sum += int(numlist[i])**power\n",
    "\n",
    "#print(sum)\n",
    "    if(sum == num):\n",
    "        armstrong.append(num)\n",
    "        \n",
    "print(armstrong)"
   ]
  },
  {
   "cell_type": "code",
   "execution_count": null,
   "metadata": {},
   "outputs": [],
   "source": []
  },
  {
   "cell_type": "code",
   "execution_count": null,
   "metadata": {},
   "outputs": [],
   "source": []
  }
 ],
 "metadata": {
  "kernelspec": {
   "display_name": "base",
   "language": "python",
   "name": "python3"
  },
  "language_info": {
   "codemirror_mode": {
    "name": "ipython",
    "version": 3
   },
   "file_extension": ".py",
   "mimetype": "text/x-python",
   "name": "python",
   "nbconvert_exporter": "python",
   "pygments_lexer": "ipython3",
   "version": "3.12.4"
  }
 },
 "nbformat": 4,
 "nbformat_minor": 2
}
