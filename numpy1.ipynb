{
 "cells": [
  {
   "cell_type": "code",
   "execution_count": 5,
   "id": "f40db680",
   "metadata": {},
   "outputs": [],
   "source": [
    "import numpy as np\n",
    "array = np.array([101,102,103,104], dtype ='float')"
   ]
  },
  {
   "cell_type": "code",
   "execution_count": 6,
   "id": "a34688d1",
   "metadata": {},
   "outputs": [
    {
     "data": {
      "text/plain": [
       "array([101., 102., 103., 104.])"
      ]
     },
     "execution_count": 6,
     "metadata": {},
     "output_type": "execute_result"
    }
   ],
   "source": [
    "array"
   ]
  },
  {
   "cell_type": "code",
   "execution_count": 7,
   "id": "26a56586",
   "metadata": {},
   "outputs": [
    {
     "data": {
      "text/plain": [
       "numpy.ndarray"
      ]
     },
     "execution_count": 7,
     "metadata": {},
     "output_type": "execute_result"
    }
   ],
   "source": [
    "type(array)"
   ]
  },
  {
   "cell_type": "code",
   "execution_count": 9,
   "id": "65552062",
   "metadata": {},
   "outputs": [
    {
     "name": "stdout",
     "output_type": "stream",
     "text": [
      "<class 'numpy.float64'>\n",
      "<class 'numpy.float64'>\n",
      "<class 'numpy.float64'>\n",
      "<class 'numpy.float64'>\n"
     ]
    }
   ],
   "source": [
    "for i in array:\n",
    "    print(type(i))"
   ]
  },
  {
   "cell_type": "code",
   "execution_count": 10,
   "id": "446a9fa7",
   "metadata": {},
   "outputs": [],
   "source": [
    "array1 = np.array([101,102,103,104.5,106])"
   ]
  },
  {
   "cell_type": "code",
   "execution_count": 11,
   "id": "8428caf7",
   "metadata": {},
   "outputs": [
    {
     "name": "stdout",
     "output_type": "stream",
     "text": [
      "<class 'numpy.float64'>\n",
      "<class 'numpy.float64'>\n",
      "<class 'numpy.float64'>\n",
      "<class 'numpy.float64'>\n",
      "<class 'numpy.float64'>\n"
     ]
    }
   ],
   "source": [
    "for i in array1:\n",
    "    print(type(i))"
   ]
  },
  {
   "cell_type": "code",
   "execution_count": 12,
   "id": "0b223822",
   "metadata": {},
   "outputs": [],
   "source": [
    "zeros = np.zeros(5)"
   ]
  },
  {
   "cell_type": "code",
   "execution_count": 13,
   "id": "384519d1",
   "metadata": {},
   "outputs": [
    {
     "data": {
      "text/plain": [
       "array([0., 0., 0., 0., 0.])"
      ]
     },
     "execution_count": 13,
     "metadata": {},
     "output_type": "execute_result"
    }
   ],
   "source": [
    "zeros "
   ]
  },
  {
   "cell_type": "code",
   "execution_count": 14,
   "id": "9680b7c9",
   "metadata": {},
   "outputs": [
    {
     "data": {
      "text/plain": [
       "array([1., 1., 1., 1., 1., 1., 1., 1., 1., 1.])"
      ]
     },
     "execution_count": 14,
     "metadata": {},
     "output_type": "execute_result"
    }
   ],
   "source": [
    "np.ones(10)"
   ]
  },
  {
   "cell_type": "code",
   "execution_count": 21,
   "id": "5142b134",
   "metadata": {},
   "outputs": [],
   "source": [
    "a = np.random.rand(100)"
   ]
  },
  {
   "cell_type": "code",
   "execution_count": 28,
   "id": "a0e2f6e4",
   "metadata": {},
   "outputs": [],
   "source": [
    "b = np.random.randint(50)"
   ]
  },
  {
   "cell_type": "code",
   "execution_count": 31,
   "id": "f95b7de2",
   "metadata": {},
   "outputs": [
    {
     "data": {
      "text/plain": [
       "array([-1.35031666, -2.18060417,  2.51597713, -0.43450081,  0.36521318,\n",
       "       -0.78264111,  0.80950303,  0.38271899,  0.96909124, -1.93842059,\n",
       "        2.47795867,  0.53806531, -1.21719481, -1.53811785,  0.18392013,\n",
       "        1.06170185, -0.7155027 ,  0.43339785,  1.2705969 ,  0.11638145,\n",
       "        0.28540268,  0.59778314,  0.70591351,  0.03006687,  0.05734811,\n",
       "       -0.0408667 , -1.37006853, -0.60767031, -0.04198895, -0.01384847,\n",
       "        2.02391552,  3.0262329 ,  0.47447081, -2.37574837,  0.47370061,\n",
       "       -1.37697611, -0.2868791 ,  0.84763927,  0.24623452,  0.01942178,\n",
       "        0.12548116,  0.05228797, -0.4152081 ,  0.24163937,  1.06023174,\n",
       "        0.73624642, -1.73005058,  0.10378049,  1.10615903,  0.72520096,\n",
       "        0.72056616,  1.38259764, -0.31592375, -0.35704787,  1.68322283,\n",
       "        1.01710737, -1.20453386, -0.01883128, -0.57099256,  1.72547341,\n",
       "       -0.0952548 , -0.08196198,  0.85453362, -0.87076357,  0.23141568,\n",
       "        1.3127795 , -0.94763653,  1.37616389, -0.53518772,  0.39909446,\n",
       "        0.36528451, -1.61920807, -0.8429244 , -0.47593268, -1.28153963,\n",
       "       -0.40571   , -0.88319488,  0.15915427, -0.44053425, -0.15203114,\n",
       "        2.55727078, -0.44319365, -1.07305483, -0.10113101,  1.29341664,\n",
       "        1.26566043,  0.04102761, -0.72788385, -0.57546036, -0.1863548 ,\n",
       "        1.67482601, -1.2715883 ,  1.6823672 ,  0.28167306,  0.69186351,\n",
       "        0.36927803,  0.4379584 , -0.54507646,  0.12908959,  0.16787142])"
      ]
     },
     "execution_count": 31,
     "metadata": {},
     "output_type": "execute_result"
    }
   ],
   "source": [
    "np.random.randn(100)"
   ]
  },
  {
   "cell_type": "code",
   "execution_count": 37,
   "id": "c0aa6eeb",
   "metadata": {},
   "outputs": [
    {
     "data": {
      "text/plain": [
       "array([[1, 2, 3, 4, 5],\n",
       "       [6, 5, 4, 7, 9],\n",
       "       [8, 7, 2, 1, 3]])"
      ]
     },
     "execution_count": 37,
     "metadata": {},
     "output_type": "execute_result"
    }
   ],
   "source": [
    "#2-D arrays in numpy\n",
    "\n",
    "x = np.array([[1,2,3,4,5],[6,5,4,7,9],[8,7,2,1,3]])\n",
    "x"
   ]
  },
  {
   "cell_type": "code",
   "execution_count": 40,
   "id": "6fe9bb14",
   "metadata": {},
   "outputs": [
    {
     "data": {
      "text/plain": [
       "7"
      ]
     },
     "execution_count": 40,
     "metadata": {},
     "output_type": "execute_result"
    }
   ],
   "source": [
    "x[1][3]"
   ]
  },
  {
   "cell_type": "code",
   "execution_count": 41,
   "id": "95bc0ba9",
   "metadata": {},
   "outputs": [
    {
     "data": {
      "text/plain": [
       "array([6, 5, 4])"
      ]
     },
     "execution_count": 41,
     "metadata": {},
     "output_type": "execute_result"
    }
   ],
   "source": [
    "x[1][0:3]"
   ]
  },
  {
   "cell_type": "code",
   "execution_count": 44,
   "id": "262acfc1",
   "metadata": {},
   "outputs": [
    {
     "name": "stdout",
     "output_type": "stream",
     "text": [
      "178\n"
     ]
    }
   ],
   "source": [
    "from numpy import *\n",
    "y = array([2,34,56,32,54])\n",
    "z = array([[4, 9, 16, 25], [36, 16, 4, 49]])\n",
    " \n",
    "print(sum(y))"
   ]
  },
  {
   "cell_type": "code",
   "execution_count": 45,
   "id": "d66db498",
   "metadata": {},
   "outputs": [
    {
     "name": "stdout",
     "output_type": "stream",
     "text": [
      "159\n"
     ]
    }
   ],
   "source": [
    "print(sum(z))"
   ]
  },
  {
   "cell_type": "code",
   "execution_count": 48,
   "id": "28cefe2f",
   "metadata": {},
   "outputs": [],
   "source": [
    "f = [1,2,3,4,5,6]\n",
    "g = reshape(f,(3,2))"
   ]
  },
  {
   "cell_type": "code",
   "execution_count": 49,
   "id": "5eb19742",
   "metadata": {},
   "outputs": [
    {
     "data": {
      "text/plain": [
       "array([[1, 2],\n",
       "       [3, 4],\n",
       "       [5, 6]])"
      ]
     },
     "execution_count": 49,
     "metadata": {},
     "output_type": "execute_result"
    }
   ],
   "source": [
    "g"
   ]
  },
  {
   "cell_type": "code",
   "execution_count": null,
   "id": "14cecac3",
   "metadata": {},
   "outputs": [],
   "source": [
    "h = [1,3,4,7,6,42,56,76,4,32,2,3]\n",
    "i = reshape(h,(3,2,2))\n"
   ]
  },
  {
   "cell_type": "code",
   "execution_count": 54,
   "id": "7c3264a2",
   "metadata": {},
   "outputs": [
    {
     "data": {
      "text/plain": [
       "array([[[ 1,  3],\n",
       "        [ 4,  7]],\n",
       "\n",
       "       [[ 6, 42],\n",
       "        [56, 76]],\n",
       "\n",
       "       [[ 4, 32],\n",
       "        [ 2,  3]]])"
      ]
     },
     "execution_count": 54,
     "metadata": {},
     "output_type": "execute_result"
    }
   ],
   "source": [
    "i"
   ]
  },
  {
   "cell_type": "code",
   "execution_count": null,
   "id": "b230930e",
   "metadata": {},
   "outputs": [],
   "source": []
  }
 ],
 "metadata": {
  "kernelspec": {
   "display_name": "base",
   "language": "python",
   "name": "python3"
  },
  "language_info": {
   "codemirror_mode": {
    "name": "ipython",
    "version": 3
   },
   "file_extension": ".py",
   "mimetype": "text/x-python",
   "name": "python",
   "nbconvert_exporter": "python",
   "pygments_lexer": "ipython3",
   "version": "3.12.4"
  }
 },
 "nbformat": 4,
 "nbformat_minor": 5
}
