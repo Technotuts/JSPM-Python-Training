{
 "cells": [
  {
   "cell_type": "code",
   "execution_count": 1,
   "id": "73325385",
   "metadata": {},
   "outputs": [
    {
     "name": "stdout",
     "output_type": "stream",
     "text": [
      "Writing Success\n",
      "Hello\n",
      "GeekyShows\n",
      "How are you\n",
      "b'Hello\\r\\nGeekyShows\\r\\nHow are you'\n"
     ]
    }
   ],
   "source": [
    "f = open('student.txt', mode='w')\n",
    "f.write('Hello\\n')\n",
    "f.write('GeekyShows\\n')\n",
    "f.write('How are you')\n",
    "f.close()\n",
    "print('Writing Success')\n",
    "\n",
    "f = open('student.txt', mode='r')\n",
    "data = f.read()\n",
    "print(data)\n",
    "f.close()\n",
    "\n",
    "f = open('student.txt', mode='rb')\n",
    "data = f.read()\n",
    "print(data)\n",
    "f.close()"
   ]
  },
  {
   "cell_type": "code",
   "execution_count": 2,
   "metadata": {},
   "outputs": [
    {
     "name": "stdout",
     "output_type": "stream",
     "text": [
      "['Hello\\n', 'GeekyShows\\n', 'How are you']\n",
      "Hello\n",
      "GeekyShows\n",
      "How are you"
     ]
    }
   ],
   "source": [
    "f = open('student.txt', mode='r')\n",
    "data = f.readlines()\n",
    "print(data)\n",
    "for i in data:\n",
    "\tprint(i, end='')\n",
    "f.close()"
   ]
  },
  {
   "cell_type": "code",
   "execution_count": 3,
   "id": "f969cc11",
   "metadata": {},
   "outputs": [
    {
     "name": "stdout",
     "output_type": "stream",
     "text": [
      "0\n",
      "Hello\n",
      "5\n",
      "\n",
      "Ge\n",
      "9\n"
     ]
    }
   ],
   "source": [
    "f = open('student.txt', mode='r')\n",
    "print(f.tell())\n",
    "data1 = f.read(5)\n",
    "print(data1)\n",
    "print(f.tell())\n",
    "data2 = f.read(3)\n",
    "print(data2)\n",
    "print(f.tell())"
   ]
  },
  {
   "cell_type": "markdown",
   "id": "248206a4",
   "metadata": {},
   "source": [
    "The seek function is a built-in function in Python that is used to set the current position of the file pointer within a file. The file pointer is a marker that indicates the current position in the file, and it is used to read or write data from that point. This function is particularly useful when reading or writing large files, as it allows us to move the file pointer to a specific location within the file and read or write data from that point.\n",
    "\n",
    "\n",
    "The Python File tell() method is used to find the current position of the file cursor (or pointer) within the file.\n",
    "\n",
    "This method is mostly used in scenarios where there is a need to determine whether the file cursor is either at the beginning of the file or the ending."
   ]
  },
  {
   "cell_type": "code",
   "execution_count": 4,
   "metadata": {},
   "outputs": [
    {
     "name": "stdout",
     "output_type": "stream",
     "text": [
      "0\n",
      "7\n",
      "GeekyShows\n",
      "How are you\n",
      "2\n",
      "llo\n",
      "GeekyShows\n",
      "How are you\n"
     ]
    }
   ],
   "source": [
    "f = open('student.txt', mode='r')\n",
    "print(f.tell())\n",
    "f.seek(7)\n",
    "print(f.tell())\n",
    "data1 = f.read()\n",
    "print(data1)\n",
    "f.seek(2)\n",
    "print(f.tell())\n",
    "data2 = f.read()\n",
    "print(data2)"
   ]
  },
  {
   "cell_type": "code",
   "execution_count": 4,
   "metadata": {},
   "outputs": [
    {
     "name": "stdout",
     "output_type": "stream",
     "text": [
      "0\n",
      "30\n",
      "37\n",
      "Hello\n",
      "GeekyShows\n",
      "How are you\n",
      "37\n"
     ]
    }
   ],
   "source": [
    "f = open('student.txt', mode='r+')\n",
    "print(f.tell())\n",
    "data = f.read()\n",
    "print(f.tell())\n",
    "f.write('Youtube')\n",
    "print(f.tell())\n",
    "print(data)\n",
    "print(f.tell())"
   ]
  },
  {
   "cell_type": "code",
   "execution_count": 6,
   "id": "462a741e",
   "metadata": {},
   "outputs": [
    {
     "name": "stdout",
     "output_type": "stream",
     "text": [
      "0\n",
      "7\n",
      "7\n",
      "\n"
     ]
    }
   ],
   "source": [
    "f = open('student.txt', mode='w+')\n",
    "print(f.tell())\n",
    "f.write('Youtube')\n",
    "print(f.tell())\n",
    "data = f.read()\n",
    "print(f.tell())\n",
    "print(data)"
   ]
  },
  {
   "cell_type": "code",
   "execution_count": 6,
   "metadata": {},
   "outputs": [
    {
     "name": "stdout",
     "output_type": "stream",
     "text": [
      "0\n",
      "7\n",
      "0\n",
      "7\n",
      "Youtube\n"
     ]
    }
   ],
   "source": [
    "f = open('student.txt', mode='w+')\n",
    "print(f.tell())\n",
    "f.write('Youtube')\n",
    "print(f.tell())\n",
    "f.seek(0)\n",
    "print(f.tell())\n",
    "data = f.read()\n",
    "print(f.tell())\n",
    "print(data)"
   ]
  },
  {
   "cell_type": "code",
   "execution_count": 8,
   "id": "ab877179",
   "metadata": {},
   "outputs": [
    {
     "name": "stdout",
     "output_type": "stream",
     "text": [
      "Youtube\n",
      "File Closed: False\n",
      "File Closed: True\n"
     ]
    }
   ],
   "source": [
    "with open('student.txt') as f:\n",
    "\tdata = f.read()\n",
    "\tprint(data)\n",
    "\tprint('File Closed:',f.closed)\n",
    "print('File Closed:',f.closed)\n"
   ]
  },
  {
   "cell_type": "code",
   "execution_count": 8,
   "metadata": {},
   "outputs": [
    {
     "name": "stdout",
     "output_type": "stream",
     "text": [
      "Pickling Done!\n",
      "Unpickling Done!\n",
      "Name: Rahul Roll: 101 Address: Ranchi\n"
     ]
    }
   ],
   "source": [
    "import pickle\n",
    "class Student:\n",
    "\tdef __init__(self, name, roll, address):\n",
    "\t\tself.name = name\n",
    "\t\tself.roll = roll\n",
    "\t\tself.address = address\n",
    "\t\t\n",
    "\tdef disp(self):\n",
    "\t\tprint(f'Name: {self.name} Roll: {self.roll} Address: {self.address}')\n",
    "\t\t\n",
    "with open('student.dat', mode='wb') as f:\n",
    "\tstu1 = Student('Rahul', 101, 'Ranchi')\n",
    "\tpickle.dump(stu1, f)\n",
    "\tprint('Pickling Done!')\n",
    "\t\n",
    "with open('student.dat', mode='rb') as f:\n",
    "\tobj = pickle.load(f)\n",
    "\tprint('Unpickling Done!')\n",
    "\tobj.disp()"
   ]
  },
  {
   "cell_type": "code",
   "execution_count": 9,
   "id": "87d20ee9",
   "metadata": {},
   "outputs": [
    {
     "name": "stdout",
     "output_type": "stream",
     "text": [
      "g:\\JSPM College\n"
     ]
    }
   ],
   "source": [
    "import os\n",
    "print(os.getcwd())"
   ]
  },
  {
   "cell_type": "code",
   "execution_count": 10,
   "id": "08dbd8e8",
   "metadata": {},
   "outputs": [],
   "source": [
    "import os\n",
    "os.mkdir('mydir')\n",
    "os.mkdir('mydir/mychilddir')"
   ]
  },
  {
   "cell_type": "code",
   "execution_count": 2,
   "id": "b91b6f14",
   "metadata": {},
   "outputs": [],
   "source": [
    "import os\n",
    "os.makedirs('parentdir/childdir/grandchilddir')"
   ]
  },
  {
   "cell_type": "code",
   "execution_count": 3,
   "id": "cda22d4a",
   "metadata": {},
   "outputs": [
    {
     "name": "stdout",
     "output_type": "stream",
     "text": [
      "g:\\JSPM College\n",
      "g:\\JSPM College\\mydir\n"
     ]
    }
   ],
   "source": [
    "import os\n",
    "print(os.getcwd())\n",
    "os.chdir('mydir')\n",
    "print(os.getcwd())"
   ]
  },
  {
   "cell_type": "code",
   "execution_count": 17,
   "id": "baa72107",
   "metadata": {},
   "outputs": [
    {
     "name": "stdout",
     "output_type": "stream",
     "text": [
      "('.', ['mychilddir'], [])\n",
      "('.\\\\mychilddir', [], [])\n",
      "\n",
      "\n"
     ]
    }
   ],
   "source": [
    "import os\n",
    "w = os.walk('.')\n",
    "for i in w:\n",
    "\tprint(i)\n",
    "print()\n",
    "\n",
    "w = os.walk('yourdir')\n",
    "for i in w:\n",
    "\tprint(i)\n",
    "print()\n",
    "\n",
    "w = os.walk('yourdir', topdown=False)\n",
    "for i in w:\n",
    "\tprint(i)"
   ]
  },
  {
   "cell_type": "code",
   "execution_count": 23,
   "id": "6971d825",
   "metadata": {},
   "outputs": [
    {
     "ename": "FileNotFoundError",
     "evalue": "[WinError 3] The system cannot find the path specified: 'parentdir/childdir/grandchilddir'",
     "output_type": "error",
     "traceback": [
      "\u001b[1;31m---------------------------------------------------------------------------\u001b[0m",
      "\u001b[1;31mFileNotFoundError\u001b[0m                         Traceback (most recent call last)",
      "Cell \u001b[1;32mIn[23], line 1\u001b[0m\n\u001b[1;32m----> 1\u001b[0m os\u001b[38;5;241m.\u001b[39mremovedirs(\u001b[38;5;124m'\u001b[39m\u001b[38;5;124mparentdir/childdir/grandchilddir\u001b[39m\u001b[38;5;124m'\u001b[39m)\n",
      "File \u001b[1;32m<frozen os>:243\u001b[0m, in \u001b[0;36mremovedirs\u001b[1;34m(name)\u001b[0m\n",
      "\u001b[1;31mFileNotFoundError\u001b[0m: [WinError 3] The system cannot find the path specified: 'parentdir/childdir/grandchilddir'"
     ]
    }
   ],
   "source": [
    "os.removedirs('parentdir/childdir/grandchilddir')"
   ]
  },
  {
   "cell_type": "code",
   "execution_count": 24,
   "id": "b0b99952",
   "metadata": {},
   "outputs": [
    {
     "data": {
      "text/plain": [
       "'g:\\\\JSPM College\\\\mydir'"
      ]
     },
     "execution_count": 24,
     "metadata": {},
     "output_type": "execute_result"
    }
   ],
   "source": [
    "os.getcwd()"
   ]
  },
  {
   "cell_type": "code",
   "execution_count": null,
   "id": "6d5e2d1e",
   "metadata": {},
   "outputs": [],
   "source": []
  }
 ],
 "metadata": {
  "kernelspec": {
   "display_name": "Python 3",
   "language": "python",
   "name": "python3"
  },
  "language_info": {
   "codemirror_mode": {
    "name": "ipython",
    "version": 3
   },
   "file_extension": ".py",
   "mimetype": "text/x-python",
   "name": "python",
   "nbconvert_exporter": "python",
   "pygments_lexer": "ipython3",
   "version": "3.12.4"
  }
 },
 "nbformat": 4,
 "nbformat_minor": 5
}
