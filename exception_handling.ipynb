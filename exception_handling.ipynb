{
 "cells": [
  {
   "cell_type": "code",
   "execution_count": 1,
   "id": "23aa5dee",
   "metadata": {},
   "outputs": [
    {
     "ename": "ZeroDivisionError",
     "evalue": "division by zero",
     "output_type": "error",
     "traceback": [
      "\u001b[1;31m---------------------------------------------------------------------------\u001b[0m",
      "\u001b[1;31mZeroDivisionError\u001b[0m                         Traceback (most recent call last)",
      "Cell \u001b[1;32mIn[1], line 3\u001b[0m\n\u001b[0;32m      1\u001b[0m a \u001b[38;5;241m=\u001b[39m \u001b[38;5;241m10\u001b[39m\n\u001b[0;32m      2\u001b[0m b \u001b[38;5;241m=\u001b[39m \u001b[38;5;241m0\u001b[39m\n\u001b[1;32m----> 3\u001b[0m d \u001b[38;5;241m=\u001b[39m a\u001b[38;5;241m/\u001b[39mb\n\u001b[0;32m      4\u001b[0m \u001b[38;5;28mprint\u001b[39m(d)\n",
      "\u001b[1;31mZeroDivisionError\u001b[0m: division by zero"
     ]
    }
   ],
   "source": [
    "a = 10\n",
    "b = 0\n",
    "d = a/b\n",
    "print(d)"
   ]
  },
  {
   "cell_type": "code",
   "execution_count": 2,
   "id": "819bcf94",
   "metadata": {},
   "outputs": [
    {
     "name": "stdout",
     "output_type": "stream",
     "text": [
      "Division by Zero Not allowed\n"
     ]
    }
   ],
   "source": [
    "a = 10\n",
    "b = 0\n",
    "try:\n",
    "    d = a/b\n",
    "    print(d)\n",
    "    print('Inside Try')\n",
    "    \n",
    "except ZeroDivisionError:\n",
    "    print('Division by Zero Not allowed')"
   ]
  },
  {
   "cell_type": "code",
   "execution_count": 3,
   "id": "0c27e36e",
   "metadata": {},
   "outputs": [
    {
     "name": "stdout",
     "output_type": "stream",
     "text": [
      "2.0\n",
      "Inside Try\n",
      "Inside Else\n"
     ]
    }
   ],
   "source": [
    "a = 10\n",
    "b = 5\n",
    "try:\n",
    "    d = a/b\n",
    "    print(d)\n",
    "    print('Inside Try')\n",
    "    \n",
    "except ZeroDivisionError:\n",
    "    print('Division by Zero Not allowed')\n",
    "    \n",
    "else:\n",
    "    print('Inside Else')"
   ]
  },
  {
   "cell_type": "code",
   "execution_count": 4,
   "id": "3aeb4b02",
   "metadata": {},
   "outputs": [
    {
     "name": "stdout",
     "output_type": "stream",
     "text": [
      "Division by Zero Not allowed\n",
      "Inside Finally\n",
      "Rest of the Code\n"
     ]
    }
   ],
   "source": [
    "a = 10\n",
    "b = 0\n",
    "try:\n",
    "    d = a/b\n",
    "    print(d)\n",
    "    print('Inside Try')\n",
    "    \n",
    "except ZeroDivisionError:\n",
    "    print('Division by Zero Not allowed')\n",
    "    \n",
    "else:\n",
    "    print('Inside Else')\n",
    "    \n",
    "finally:\n",
    "    print('Inside Finally')\n",
    "    \n",
    "print('Rest of the Code')"
   ]
  },
  {
   "cell_type": "code",
   "execution_count": 5,
   "id": "33917978",
   "metadata": {},
   "outputs": [
    {
     "name": "stdout",
     "output_type": "stream",
     "text": [
      "division by zero\n"
     ]
    }
   ],
   "source": [
    "a = 10\n",
    "b = 0\n",
    "try:\n",
    "    d = a/b\n",
    "    print(d)\n",
    "    print('Inside Try')\n",
    "    \n",
    "except ZeroDivisionError as obj:\n",
    "    print(obj)"
   ]
  },
  {
   "cell_type": "code",
   "execution_count": 6,
   "metadata": {},
   "outputs": [
    {
     "name": "stdout",
     "output_type": "stream",
     "text": [
      "name 'g' is not defined\n"
     ]
    }
   ],
   "source": [
    "a = 10\n",
    "b = 0\n",
    "try:\n",
    "    d = a/g\n",
    "    print(d)\n",
    "    \n",
    "except ZeroDivisionError as obj:\n",
    "    print(obj)\n",
    "    \n",
    "except NameError as ob:\n",
    "    print(ob)"
   ]
  },
  {
   "cell_type": "code",
   "execution_count": null,
   "id": "99255a28",
   "metadata": {},
   "outputs": [],
   "source": [
    "a = 10\n",
    "b = 0\n",
    "try:\n",
    "    d = a/g\n",
    "    print(d)\n",
    "    \n",
    "except (NameError, ZeroDivisionError) as obj:\n",
    "    print(obj)\n"
   ]
  },
  {
   "cell_type": "code",
   "execution_count": 7,
   "id": "543352e8",
   "metadata": {},
   "outputs": [
    {
     "name": "stdout",
     "output_type": "stream",
     "text": [
      "Exception Handler\n"
     ]
    }
   ],
   "source": [
    "a = 10\n",
    "b = 0\n",
    "try:\n",
    "    d = a/g\n",
    "    print(d)\n",
    "    \n",
    "except:\n",
    "    print('Exception Handler')\n"
   ]
  },
  {
   "cell_type": "code",
   "execution_count": 8,
   "id": "8b0881c1",
   "metadata": {},
   "outputs": [
    {
     "ename": "AssertionError",
     "evalue": "Invalid Number",
     "output_type": "error",
     "traceback": [
      "\u001b[1;31m---------------------------------------------------------------------------\u001b[0m",
      "\u001b[1;31mAssertionError\u001b[0m                            Traceback (most recent call last)",
      "Cell \u001b[1;32mIn[8], line 2\u001b[0m\n\u001b[0;32m      1\u001b[0m a \u001b[38;5;241m=\u001b[39m \u001b[38;5;241m20\u001b[39m\n\u001b[1;32m----> 2\u001b[0m \u001b[38;5;28;01massert\u001b[39;00m a \u001b[38;5;241m<\u001b[39m\u001b[38;5;241m=\u001b[39m \u001b[38;5;241m10\u001b[39m, \u001b[38;5;124m'\u001b[39m\u001b[38;5;124mInvalid Number\u001b[39m\u001b[38;5;124m'\u001b[39m\n",
      "\u001b[1;31mAssertionError\u001b[0m: Invalid Number"
     ]
    }
   ],
   "source": [
    "a = 20\n",
    "assert a <= 10, 'Invalid Number'"
   ]
  },
  {
   "cell_type": "code",
   "execution_count": 10,
   "metadata": {},
   "outputs": [
    {
     "name": "stdout",
     "output_type": "stream",
     "text": [
      "3000\n"
     ]
    }
   ],
   "source": [
    "class BalanceException (Exception):\n",
    "    #pass\n",
    "    def __init__(self, arg):\n",
    "        self.msg = arg\n",
    "        \n",
    "def checkbalance():\n",
    "    money = 10000\n",
    "    withdraw = 7000\n",
    "    try:\n",
    "        balance = money - withdraw\n",
    "        if(balance<=2000):\n",
    "            raise BalanceException('Insufficient Balance')\n",
    "        print(balance)\n",
    "    except BalanceException as be:\n",
    "        print(be)\n",
    "        \n",
    "checkbalance() "
   ]
  },
  {
   "cell_type": "code",
   "execution_count": null,
   "id": "9081b70b",
   "metadata": {},
   "outputs": [],
   "source": [
    "ERROR"
   ]
  }
 ],
 "metadata": {
  "kernelspec": {
   "display_name": "Python 3",
   "language": "python",
   "name": "python3"
  },
  "language_info": {
   "codemirror_mode": {
    "name": "ipython",
    "version": 3
   },
   "file_extension": ".py",
   "mimetype": "text/x-python",
   "name": "python",
   "nbconvert_exporter": "python",
   "pygments_lexer": "ipython3",
   "version": "3.12.4"
  }
 },
 "nbformat": 4,
 "nbformat_minor": 5
}
