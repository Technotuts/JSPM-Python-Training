{
 "cells": [
  {
   "cell_type": "code",
   "execution_count": 27,
   "id": "442eff96-1496-420b-a3a1-cb70ada131b9",
   "metadata": {},
   "outputs": [
    {
     "name": "stdout",
     "output_type": "stream",
     "text": [
      "[101 102 103 104 105]\n",
      "int32\n",
      "101\n",
      "102\n",
      "103\n",
      "104\n",
      "105\n"
     ]
    }
   ],
   "source": [
    "# 1D Array using array Function Numpy Example 1\n",
    "import numpy as np\n",
    "stu_roll = np.array([101, 102, 103, 104, 105])\n",
    "print(stu_roll)\n",
    "print(stu_roll.dtype)\n",
    "print(stu_roll[0])\n",
    "print(stu_roll[1])\n",
    "print(stu_roll[2])\n",
    "print(stu_roll[3])\n",
    "print(stu_roll[4])"
   ]
  },
  {
   "cell_type": "code",
   "execution_count": 28,
   "id": "cf817983-3e7a-496a-8c8c-18a1186da471",
   "metadata": {},
   "outputs": [
    {
     "name": "stdout",
     "output_type": "stream",
     "text": [
      "[101. 102. 103. 104. 105.]\n",
      "float64\n",
      "101.0\n",
      "102.0\n",
      "103.0\n",
      "104.0\n",
      "105.0\n"
     ]
    }
   ],
   "source": [
    "# 1D Array with Float Number using array Function Numpy Example 2\n",
    "stu_roll = np.array([101, 102, 103, 104, 105], dtype=float)\n",
    "print(stu_roll)\n",
    "print(stu_roll.dtype)\n",
    "print(stu_roll[0])\n",
    "print(stu_roll[1])\n",
    "print(stu_roll[2])\n",
    "print(stu_roll[3])\n",
    "print(stu_roll[4])\n",
    "\n"
   ]
  },
  {
   "cell_type": "code",
   "execution_count": 29,
   "id": "e15367d4-dc2b-4ec0-ab52-7cf31b6e6961",
   "metadata": {},
   "outputs": [
    {
     "name": "stdout",
     "output_type": "stream",
     "text": [
      "[101.  102.  103.  104.   10.5]\n",
      "float64\n",
      "101.0\n",
      "102.0\n",
      "103.0\n",
      "104.0\n",
      "10.5\n"
     ]
    }
   ],
   "source": [
    "# 1D Array with Implicit Float Conversion using array Function Numpy Example 3\n",
    "stu_roll = np.array([101, 102, 103, 104, 10.5])\n",
    "print(stu_roll)\n",
    "print(stu_roll.dtype)\n",
    "print(stu_roll[0])\n",
    "print(stu_roll[1])\n",
    "print(stu_roll[2])\n",
    "print(stu_roll[3])\n",
    "print(stu_roll[4])\n",
    "\n"
   ]
  },
  {
   "cell_type": "code",
   "execution_count": 30,
   "id": "bd75fe17-37b6-4c81-ac00-55353d5786e8",
   "metadata": {},
   "outputs": [
    {
     "name": "stdout",
     "output_type": "stream",
     "text": [
      "['a' 'b' 'c' 'd' 'e']\n",
      "<U1\n",
      "a\n",
      "b\n",
      "c\n",
      "d\n",
      "e\n"
     ]
    }
   ],
   "source": [
    "# 1D Array with Character using array Function Numpy Exmaple 4\n",
    "stu_roll = np.array(['a', 'b', 'c', 'd', 'e'])\n",
    "print(stu_roll)\n",
    "print(stu_roll.dtype)\n",
    "print(stu_roll[0])\n",
    "print(stu_roll[1])\n",
    "print(stu_roll[2])\n",
    "print(stu_roll[3])\n",
    "print(stu_roll[4])\n",
    "\n"
   ]
  },
  {
   "cell_type": "code",
   "execution_count": 31,
   "id": "dadb59a6-2985-4a00-9397-00c8d3597671",
   "metadata": {},
   "outputs": [
    {
     "name": "stdout",
     "output_type": "stream",
     "text": [
      "['Rahul' 'Sonam' 'Raj' 'Rani' 'Sumit']\n",
      "<U5\n",
      "Rahul\n",
      "Sonam\n",
      "Raj\n",
      "Rani\n",
      "Sumit\n"
     ]
    }
   ],
   "source": [
    "# 1D Array with string using array Function Numpy Example 5\n",
    "stu_roll = np.array(['Rahul', 'Sonam', 'Raj', 'Rani', 'Sumit'])\n",
    "print(stu_roll)\n",
    "print(stu_roll.dtype)\n",
    "print(stu_roll[0])\n",
    "print(stu_roll[1])\n",
    "print(stu_roll[2])\n",
    "print(stu_roll[3])\n",
    "print(stu_roll[4])\n",
    "\n"
   ]
  },
  {
   "cell_type": "code",
   "execution_count": 32,
   "id": "04ec34cc-631b-4742-9735-bb95d2c7ec7b",
   "metadata": {},
   "outputs": [
    {
     "name": "stdout",
     "output_type": "stream",
     "text": [
      "[101 102 103 104 105]\n",
      "int32\n",
      "101\n",
      "102\n",
      "103\n",
      "104\n",
      "105\n"
     ]
    }
   ],
   "source": [
    "# 1D Array using array Function Numpy Example 6\n",
    "from numpy import *\n",
    "stu_roll = array([101, 102, 103, 104, 105])\n",
    "print(stu_roll)\n",
    "print(stu_roll.dtype)\n",
    "print(stu_roll[0])\n",
    "print(stu_roll[1])\n",
    "print(stu_roll[2])\n",
    "print(stu_roll[3])\n",
    "print(stu_roll[4])"
   ]
  },
  {
   "cell_type": "code",
   "execution_count": 33,
   "id": "10ddae98-d6fa-407a-bc62-869427365922",
   "metadata": {},
   "outputs": [
    {
     "name": "stdout",
     "output_type": "stream",
     "text": [
      "101\n",
      "102\n",
      "103\n",
      "104\n",
      "105\n"
     ]
    }
   ],
   "source": [
    "# 1D Array using array Function Numpy\n",
    "from numpy import *\n",
    "stu_roll = array([101, 102, 103, 104, 105])\n",
    "\n",
    "for element in stu_roll:\n",
    "\tprint(element)"
   ]
  },
  {
   "cell_type": "code",
   "execution_count": 34,
   "id": "84b6c4e2-477c-43b5-a5ae-af5710a6f640",
   "metadata": {},
   "outputs": [
    {
     "name": "stdout",
     "output_type": "stream",
     "text": [
      "index 0 = 101\n",
      "index 1 = 102\n",
      "index 2 = 103\n",
      "index 3 = 104\n",
      "index 4 = 105\n"
     ]
    }
   ],
   "source": [
    "# 1D Array using array Function Numpy\n",
    "from numpy import *\n",
    "stu_roll = array([101, 102, 103, 104, 105])\n",
    "\n",
    "n = len(stu_roll)\n",
    "for i in range(n):\n",
    "\tprint('index',i,\"=\",stu_roll[i])"
   ]
  },
  {
   "cell_type": "code",
   "execution_count": 35,
   "id": "35942bf5-eefc-43f8-b7cc-3d908de99f0b",
   "metadata": {},
   "outputs": [
    {
     "name": "stdout",
     "output_type": "stream",
     "text": [
      "Enter Number of Elements:  3\n",
      "Enter Element:  1\n",
      "Enter Element:  2\n",
      "Enter Element:  3\n"
     ]
    },
    {
     "name": "stdout",
     "output_type": "stream",
     "text": [
      "1\n",
      "2\n",
      "3\n"
     ]
    }
   ],
   "source": [
    "# Getting Input from User in 1D Array numpy\n",
    "from numpy import *\n",
    "n = int(input(\"Enter Number of Elements: \"))\n",
    "a = zeros(n, dtype=int)\n",
    "for i in range(len(a)):\n",
    "\tx = int(input(\"Enter Element: \"))\n",
    "\ta[i] = x\n",
    "for i in range(len(a)):\n",
    "\tprint(a[i])\n"
   ]
  },
  {
   "cell_type": "code",
   "execution_count": 36,
   "id": "c73beb57-eabd-47c8-9659-f3024eef3cc2",
   "metadata": {},
   "outputs": [
    {
     "name": "stdout",
     "output_type": "stream",
     "text": [
      "**** Accessing Individual Elements ****\n",
      "10.0\n",
      "31.622776601683793\n",
      "100.0\n",
      "316.22776601683796\n",
      "1000.0\n",
      "\n",
      "**** Accessing by For Loop ****\n",
      "10.0\n",
      "31.622776601683793\n",
      "100.0\n",
      "316.22776601683796\n",
      "1000.0\n",
      "\n",
      "**** Accessing by For Loop with Index ****\n",
      "index 0 = 10.0\n",
      "index 1 = 31.622776601683793\n",
      "index 2 = 100.0\n",
      "index 3 = 316.22776601683796\n",
      "index 4 = 1000.0\n",
      "\n",
      "**** Accessing by While Loop ****\n",
      "index 0 = 10.0\n",
      "index 1 = 31.622776601683793\n",
      "index 2 = 100.0\n",
      "index 3 = 316.22776601683796\n",
      "index 4 = 1000.0\n"
     ]
    }
   ],
   "source": [
    "from numpy import *\n",
    "a = logspace(1, 3, 5)\n",
    "\n",
    "print(\"**** Accessing Individual Elements ****\")\n",
    "print(a[0])\n",
    "print(a[1])\n",
    "print(a[2])\n",
    "print(a[3])\n",
    "print(a[4])\n",
    "print()\n",
    "\n",
    "print(\"**** Accessing by For Loop ****\")\n",
    "for el in a:\n",
    "\tprint(el)\n",
    "print()\n",
    "\n",
    "print(\"**** Accessing by For Loop with Index ****\")\t\n",
    "n = len(a)\n",
    "for i in range(n):\n",
    "\tprint('index',i,'=',a[i])\n",
    "print()\n",
    "\n",
    "print(\"**** Accessing by While Loop ****\")\t\n",
    "n = len(a)\n",
    "i = 0\n",
    "while i < n:\n",
    "\tprint('index',i,'=',a[i])\n",
    "\ti+=1"
   ]
  },
  {
   "cell_type": "code",
   "execution_count": 37,
   "id": "80a3a3cf-e46f-4708-b9bd-9fd94bca454e",
   "metadata": {},
   "outputs": [
    {
     "name": "stdout",
     "output_type": "stream",
     "text": [
      "**** Accessing Individual Elements ****\n",
      "0\n",
      "1\n",
      "2\n",
      "3\n",
      "4\n",
      "\n",
      "**** Accessing by For Loop ****\n",
      "0\n",
      "1\n",
      "2\n",
      "3\n",
      "4\n",
      "\n",
      "**** Accessing by For Loop with Index ****\n",
      "index 0 = 0\n",
      "index 1 = 1\n",
      "index 2 = 2\n",
      "index 3 = 3\n",
      "index 4 = 4\n",
      "\n",
      "**** Accessing by While Loop ****\n",
      "index 0 = 0\n",
      "index 1 = 1\n",
      "index 2 = 2\n",
      "index 3 = 3\n",
      "index 4 = 4\n"
     ]
    }
   ],
   "source": [
    "from numpy import *\n",
    "a = arange(5)\n",
    "#a = arange(5.0)\n",
    "#a = arange(1, 6)\n",
    "#a = arange(1, 10, 2)\n",
    "\n",
    "print(\"**** Accessing Individual Elements ****\")\n",
    "print(a[0])\n",
    "print(a[1])\n",
    "print(a[2])\n",
    "print(a[3])\n",
    "print(a[4])\n",
    "print()\n",
    "\n",
    "print(\"**** Accessing by For Loop ****\")\n",
    "for el in a:\n",
    "\tprint(el)\n",
    "print()\n",
    "\n",
    "print(\"**** Accessing by For Loop with Index ****\")\t\n",
    "n = len(a)\n",
    "for i in range(n):\n",
    "\tprint('index',i,'=',a[i])\n",
    "print()\n",
    "\n",
    "print(\"**** Accessing by While Loop ****\")\t\n",
    "n = len(a)\n",
    "i = 0\n",
    "while i < n:\n",
    "\tprint('index',i,'=',a[i])\n",
    "\ti+=1"
   ]
  },
  {
   "cell_type": "code",
   "execution_count": 38,
   "id": "484d9b01-b708-44e1-9471-3b3345da187a",
   "metadata": {},
   "outputs": [
    {
     "name": "stdout",
     "output_type": "stream",
     "text": [
      "**** Accessing Individual Elements ****\n",
      "0.0\n",
      "0.0\n",
      "0.0\n",
      "0.0\n",
      "0.0\n",
      "\n",
      "**** Accessing by For Loop ****\n",
      "0.0\n",
      "0.0\n",
      "0.0\n",
      "0.0\n",
      "0.0\n",
      "\n",
      "**** Accessing by For Loop with Index ****\n",
      "index 0 = 0.0\n",
      "index 1 = 0.0\n",
      "index 2 = 0.0\n",
      "index 3 = 0.0\n",
      "index 4 = 0.0\n",
      "\n",
      "**** Accessing by While Loop ****\n",
      "index 0 = 0.0\n",
      "index 1 = 0.0\n",
      "index 2 = 0.0\n",
      "index 3 = 0.0\n",
      "index 4 = 0.0\n"
     ]
    }
   ],
   "source": [
    "# 1D Array using zeros Function Numpy\n",
    "from numpy import *\n",
    "a = zeros(5)\n",
    "#a = zeros(5, dtype=int)\n",
    "\n",
    "print(\"**** Accessing Individual Elements ****\")\n",
    "print(a[0])\n",
    "print(a[1])\n",
    "print(a[2])\n",
    "print(a[3])\n",
    "print(a[4])\n",
    "print()\n",
    "\n",
    "print(\"**** Accessing by For Loop ****\")\n",
    "for el in a:\n",
    "\tprint(el)\n",
    "print()\n",
    "\n",
    "print(\"**** Accessing by For Loop with Index ****\")\t\n",
    "n = len(a)\n",
    "for i in range(n):\n",
    "\tprint('index',i,'=',a[i])\n",
    "print()\n",
    "\n",
    "print(\"**** Accessing by While Loop ****\")\t\n",
    "n = len(a)\n",
    "i = 0\n",
    "while i < n:\n",
    "\tprint('index',i,'=',a[i])\n",
    "\ti+=1"
   ]
  },
  {
   "cell_type": "code",
   "execution_count": 39,
   "id": "81706e17-8e0b-4d6c-a8bb-ff061bf91e88",
   "metadata": {},
   "outputs": [
    {
     "name": "stdout",
     "output_type": "stream",
     "text": [
      "**** Accessing Individual Elements ****\n",
      "1.0\n",
      "1.0\n",
      "1.0\n",
      "1.0\n",
      "1.0\n",
      "\n",
      "**** Accessing by For Loop ****\n",
      "1.0\n",
      "1.0\n",
      "1.0\n",
      "1.0\n",
      "1.0\n",
      "\n",
      "**** Accessing by For Loop with Index ****\n",
      "index 0 = 1.0\n",
      "index 1 = 1.0\n",
      "index 2 = 1.0\n",
      "index 3 = 1.0\n",
      "index 4 = 1.0\n",
      "\n",
      "**** Accessing by While Loop ****\n",
      "index 0 = 1.0\n",
      "index 1 = 1.0\n",
      "index 2 = 1.0\n",
      "index 3 = 1.0\n",
      "index 4 = 1.0\n"
     ]
    }
   ],
   "source": [
    "# 1D Array using ones Function Numpy\n",
    "from numpy import *\n",
    "a = ones(5)\n",
    "#a = ones(5, dtype=int)\n",
    "\n",
    "print(\"**** Accessing Individual Elements ****\")\n",
    "print(a[0])\n",
    "print(a[1])\n",
    "print(a[2])\n",
    "print(a[3])\n",
    "print(a[4])\n",
    "print()\n",
    "\n",
    "print(\"**** Accessing by For Loop ****\")\n",
    "for el in a:\n",
    "\tprint(el)\n",
    "print()\n",
    "\n",
    "print(\"**** Accessing by For Loop with Index ****\")\t\n",
    "n = len(a)\n",
    "for i in range(n):\n",
    "\tprint('index',i,'=',a[i])\n",
    "print()\n",
    "\n",
    "print(\"**** Accessing by While Loop ****\")\t\n",
    "n = len(a)\n",
    "i = 0\n",
    "while i < n:\n",
    "\tprint('index',i,'=',a[i])\n",
    "\ti+=1"
   ]
  },
  {
   "cell_type": "code",
   "execution_count": 40,
   "id": "406810ea-96ad-4e55-a676-276b72273afc",
   "metadata": {},
   "outputs": [
    {
     "name": "stdout",
     "output_type": "stream",
     "text": [
      "106\n",
      "107\n",
      "108\n",
      "109\n",
      "110\n",
      "\n"
     ]
    }
   ],
   "source": [
    "a = array([101, 102, 103, 104, 105])\n",
    "a = a + 5\n",
    "\n",
    "for el in a:\n",
    "\tprint(el)\n",
    "print()"
   ]
  },
  {
   "cell_type": "code",
   "execution_count": 41,
   "id": "859f3818-152b-4517-8c39-6acd3c407591",
   "metadata": {},
   "outputs": [
    {
     "name": "stdout",
     "output_type": "stream",
     "text": [
      "102\n",
      "104\n",
      "106\n",
      "108\n",
      "110\n",
      "\n"
     ]
    }
   ],
   "source": [
    "a = array([101, 102, 103, 104, 105])\n",
    "b = array([1, 2, 3, 4, 5])\n",
    "c = a + b\n",
    "\n",
    "for el in c:\n",
    "\tprint(el)\n",
    "print()"
   ]
  },
  {
   "cell_type": "code",
   "execution_count": 42,
   "id": "4abede67-f19b-45da-86cb-323ebd126793",
   "metadata": {},
   "outputs": [
    {
     "name": "stdout",
     "output_type": "stream",
     "text": [
      "a [100 200  13 400 500]\n",
      "b [100  20  30 400  50]\n",
      "a==b [ True False False  True False]\n",
      "a<b [False False  True False False]\n",
      "a>b [False  True False False  True]\n",
      "a<=b [ True False  True  True False]\n",
      "a>=b [ True  True False  True  True]\n",
      "a!b [False  True  True False  True]\n"
     ]
    }
   ],
   "source": [
    "a = array([100, 200, 13, 400, 500])\n",
    "b = array([100, 20, 30, 400, 50])\n",
    "result1 = a == b\n",
    "result2 = a < b\n",
    "result3 = a > b\n",
    "result4 = a <= b\n",
    "result5 = a >= b\n",
    "result6 = a != b\n",
    "print(\"a\", a)\n",
    "print(\"b\", b)\n",
    "print(\"a==b\",result1)\n",
    "print(\"a<b\",result2)\n",
    "print(\"a>b\",result3)\n",
    "print(\"a<=b\",result4)\n",
    "print(\"a>=b\",result5)\n",
    "print(\"a!b\",result6)"
   ]
  },
  {
   "cell_type": "code",
   "execution_count": 43,
   "id": "72ddcb15-84a5-4719-989f-6c9c74963e9b",
   "metadata": {},
   "outputs": [
    {
     "name": "stdout",
     "output_type": "stream",
     "text": [
      "True\n",
      "False\n"
     ]
    }
   ],
   "source": [
    "a = array([100, 200, 300, 400, 500])\n",
    "b = array([100, 20, 30, 400, 50])\n",
    "result = a == b\n",
    "print(any(result))\n",
    "print(all(result))"
   ]
  },
  {
   "cell_type": "code",
   "execution_count": 44,
   "id": "0f56e3d3-fce9-4b77-a2a2-6fb3b55016d6",
   "metadata": {},
   "outputs": [
    {
     "name": "stdout",
     "output_type": "stream",
     "text": [
      "[101  20 300 400 500]\n"
     ]
    }
   ],
   "source": [
    "a = array([101, 12, 300, 4, 500])\n",
    "b = array([100, 20, 30, 400, 50])\n",
    "result = where(a>b, a, b)\n",
    "print(result)"
   ]
  },
  {
   "cell_type": "code",
   "execution_count": 45,
   "id": "935b1614-0d6d-4899-bf3b-d659f0e86ffa",
   "metadata": {},
   "outputs": [
    {
     "name": "stdout",
     "output_type": "stream",
     "text": [
      "(array([0, 1, 2, 4, 5], dtype=int64),)\n"
     ]
    }
   ],
   "source": [
    "a = array([100, 200, 13, 0, 400, 500, 0])\n",
    "result = nonzero(a)\n",
    "print(result)\n"
   ]
  },
  {
   "cell_type": "code",
   "execution_count": 46,
   "id": "5ba38c0e-50f4-435d-95cb-e70c7511faca",
   "metadata": {},
   "outputs": [
    {
     "name": "stdout",
     "output_type": "stream",
     "text": [
      "[[10 20 30 40]\n",
      " [50 60 70 80]]\n",
      "int32\n",
      "10\n",
      "20\n",
      "30\n",
      "40\n",
      "50\n",
      "60\n",
      "70\n",
      "80\n",
      "[[10. 20. 30. 40.]\n",
      " [50. 60. 70. 80.]]\n",
      "float64\n",
      "10.0\n",
      "20.0\n",
      "30.0\n",
      "40.0\n",
      "50.0\n",
      "60.0\n",
      "70.0\n",
      "80.0\n",
      "[[10. 20. 30. 40.]\n",
      " [50. 60. 70.  8.]]\n",
      "float64\n",
      "10.0\n",
      "20.0\n",
      "30.0\n",
      "40.0\n",
      "50.0\n",
      "60.0\n",
      "70.0\n",
      "8.0\n",
      "[['Rahul' 'Sonam' 'Raj' 'Rani']\n",
      " ['Dell' 'Asus' 'Lenovo' 'HP']]\n",
      "<U6\n",
      "Rahul\n",
      "Sonam\n",
      "Raj\n",
      "Rani\n",
      "Dell\n",
      "Asus\n",
      "Lenovo\n",
      "HP\n",
      "[[10 20 30 40]\n",
      " [50 60 70 80]]\n",
      "int32\n",
      "10\n",
      "20\n",
      "30\n",
      "40\n",
      "50\n",
      "60\n",
      "70\n",
      "80\n"
     ]
    }
   ],
   "source": [
    "# 2D Array using Array Function Numpy\n",
    "import numpy\n",
    "a = numpy.array([[10, 20, 30, 40], [50, 60, 70, 80]])\n",
    "print(a)\n",
    "print(a.dtype)\n",
    "print(a[0][0])\n",
    "print(a[0][1])\n",
    "print(a[0][2])\n",
    "print(a[0][3])\n",
    "print(a[1][0])\n",
    "print(a[1][1])\n",
    "print(a[1][2])\n",
    "print(a[1][3])\n",
    "\n",
    "# 2D Array with Float Number using array Function Numpy Example 2\n",
    "import numpy\n",
    "a = numpy.array([[10, 20, 30, 40], [50, 60, 70, 80]], dtype=float)\n",
    "print(a)\n",
    "print(a.dtype)\n",
    "print(a[0][0])\n",
    "print(a[0][1])\n",
    "print(a[0][2])\n",
    "print(a[0][3])\n",
    "print(a[1][0])\n",
    "print(a[1][1])\n",
    "print(a[1][2])\n",
    "print(a[1][3])\n",
    "\n",
    "# 2D Array with Implicit Float Conversion using array Function Numpy Example 3\n",
    "import numpy\n",
    "a = numpy.array([[10, 20, 30, 40], [50, 60, 70, 8.0]])\n",
    "print(a)\n",
    "print(a.dtype)\n",
    "print(a[0][0])\n",
    "print(a[0][1])\n",
    "print(a[0][2])\n",
    "print(a[0][3])\n",
    "print(a[1][0])\n",
    "print(a[1][1])\n",
    "print(a[1][2])\n",
    "print(a[1][3])\n",
    "\n",
    "# 2D Array with String using array Function Numpy Exmaple 4\n",
    "import numpy\n",
    "a = numpy.array([['Rahul', 'Sonam', 'Raj', 'Rani'], ['Dell', 'Asus', 'Lenovo', 'HP']])\n",
    "print(a)\n",
    "print(a.dtype)\n",
    "print(a[0][0])\n",
    "print(a[0][1])\n",
    "print(a[0][2])\n",
    "print(a[0][3])\n",
    "print(a[1][0])\n",
    "print(a[1][1])\n",
    "print(a[1][2])\n",
    "print(a[1][3])\n",
    "\n",
    "# 2D Array using array Function Numpy Example 5\n",
    "from numpy import *\n",
    "a = array([[10, 20, 30, 40], [50, 60, 70, 80]])\n",
    "print(a)\n",
    "print(a.dtype)\n",
    "print(a[0][0])\n",
    "print(a[0][1])\n",
    "print(a[0][2])\n",
    "print(a[0][3])\n",
    "print(a[1][0])\n",
    "print(a[1][1])\n",
    "print(a[1][2])\n",
    "print(a[1][3])"
   ]
  },
  {
   "cell_type": "code",
   "execution_count": 47,
   "id": "6e01ded6-ac24-4012-b7e3-e108ed646e1b",
   "metadata": {},
   "outputs": [
    {
     "name": "stdout",
     "output_type": "stream",
     "text": [
      "10\n",
      "20\n",
      "30\n",
      "40\n",
      "\n",
      "50\n",
      "60\n",
      "70\n",
      "80\n",
      "\n"
     ]
    }
   ],
   "source": [
    "from numpy import *\n",
    "a = array([[10, 20, 30, 40], [50, 60, 70, 80]])\n",
    "\n",
    "for r in a:\n",
    "\tfor c in r:\n",
    "\t\tprint(c)\n",
    "\tprint()\n"
   ]
  },
  {
   "cell_type": "code",
   "execution_count": 48,
   "id": "fa802699-5092-4fb0-bac7-f0ce0b45bbe9",
   "metadata": {},
   "outputs": [
    {
     "name": "stdout",
     "output_type": "stream",
     "text": [
      "index 0 0 = 10\n",
      "index 0 1 = 20\n",
      "index 0 2 = 30\n",
      "index 0 3 = 40\n",
      "\n",
      "index 1 0 = 50\n",
      "index 1 1 = 60\n",
      "index 1 2 = 70\n",
      "index 1 3 = 80\n",
      "\n"
     ]
    }
   ],
   "source": [
    "from numpy import *\n",
    "a = array([[10, 20, 30, 40], [50, 60, 70, 80]])\n",
    "\n",
    "n = len(a)\n",
    "for i in range(n):\n",
    "\tfor j in range(len(a[i])):\n",
    "\t\tprint('index',i,j,\"=\",a[i][j])\n",
    "\tprint()"
   ]
  },
  {
   "cell_type": "code",
   "execution_count": 49,
   "id": "9fa998e6-aab5-4f08-be40-b4198d82433f",
   "metadata": {},
   "outputs": [
    {
     "name": "stdout",
     "output_type": "stream",
     "text": [
      "index 0 0 = 10\n",
      "index 0 1 = 20\n",
      "index 0 2 = 30\n",
      "index 0 3 = 40\n",
      "\n",
      "index 1 0 = 50\n",
      "index 1 1 = 60\n",
      "index 1 2 = 100\n",
      "index 1 3 = 80\n",
      "\n"
     ]
    }
   ],
   "source": [
    "from numpy import *\n",
    "a = array([[10, 20, 30, 40], [50, 60, 70, 80]])\n",
    "\n",
    "a[1][2] = 100\n",
    "\n",
    "n = len(a)\n",
    "for i in range(n):\n",
    "    for j in range(len(a[i])):\n",
    "        print('index',i,j,\"=\",a[i][j])\n",
    "    print()\n"
   ]
  },
  {
   "cell_type": "code",
   "execution_count": 50,
   "id": "4efa88d1-982c-44a3-b386-53d0bd7bc947",
   "metadata": {},
   "outputs": [
    {
     "name": "stdout",
     "output_type": "stream",
     "text": [
      "index 0 0 = 10\n",
      "index 0 1 = 20\n",
      "index 0 2 = 30\n",
      "index 0 3 = 40\n",
      "\n",
      "index 1 0 = 50\n",
      "index 1 1 = 60\n",
      "index 1 2 = 70\n",
      "index 1 3 = 80\n",
      "\n"
     ]
    }
   ],
   "source": [
    "a = array([[10, 20, 30, 40], [50, 60, 70, 80]])\n",
    "\n",
    "n = len(a)\n",
    "i = 0\n",
    "while i < n :\n",
    "\tj = 0\n",
    "\twhile j < len(a[i]):\n",
    "\t\tprint('index',i,j,\"=\",a[i][j])\n",
    "\t\tj+=1\n",
    "\ti+=1\n",
    "\tprint()"
   ]
  },
  {
   "cell_type": "code",
   "execution_count": 51,
   "id": "66e35561-2410-481e-854a-741b1f99ef5f",
   "metadata": {},
   "outputs": [
    {
     "name": "stdout",
     "output_type": "stream",
     "text": [
      "Original Array\n",
      "[[10 20 30]\n",
      " [40 50 60]\n",
      " [70 80 90]]\n",
      "0th Row All Columns\n",
      "10\n",
      "20\n",
      "30\n",
      "1st Row All Columns\n",
      "40\n",
      "50\n",
      "60\n",
      "2nd Row All Columns\n",
      "70\n",
      "80\n",
      "90\n",
      "0th Column All Rows\n",
      "10\n",
      "40\n",
      "70\n",
      "1st Column All Rows\n",
      "20\n",
      "50\n",
      "80\n",
      "2nd Column All Rows\n",
      "30\n",
      "60\n",
      "90\n",
      "Element 10, 0th row 0th column\n",
      "[[10]]\n",
      "Element 90, 2nd row 2nd column\n",
      "[[90]]\n",
      "0th row and 1st row of 1st column and 2nd column\n",
      "[[20 30]\n",
      " [50 60]]\n"
     ]
    }
   ],
   "source": [
    "n = array([[10, 20, 30], \n",
    "\t\t   [40, 50, 60], \n",
    "\t\t   [70, 80, 90]])\n",
    "print(\"Original Array\")\n",
    "print(n)\n",
    "\n",
    "print(\"0th Row All Columns\")\t\n",
    "# 0th Row All Columns\n",
    "a = n[0, :]\n",
    "for i in a:\n",
    "\t\tprint(i)\n",
    "\n",
    "print(\"1st Row All Columns\")\n",
    "# 1st Row All Columns\n",
    "b = n[1, :]\n",
    "for i in b:\n",
    "\t\tprint(i)\n",
    "\n",
    "print(\"2nd Row All Columns\")\n",
    "# 2nd Row All Columns\n",
    "c = n[2, :]\n",
    "for i in c:\n",
    "\t\tprint(i)\n",
    "\n",
    "print(\"0th Column All Rows\")\n",
    "# 0th Column All Rows\n",
    "d = n[:, 0]\n",
    "for i in d:\n",
    "\t\tprint(i)\n",
    "\n",
    "print(\"1st Column All Rows\")\n",
    "# 1st Column All Rows\n",
    "e = n[:, 1]\n",
    "for i in e:\n",
    "\t\tprint(i)\n",
    "\n",
    "print(\"2nd Column All Rows\")\n",
    "# 2nd Column All Rows\n",
    "f = n[:, 2]\n",
    "for i in f:\n",
    "\t\tprint(i)\n",
    "\n",
    "\n",
    "print(\"Element 10, 0th row 0th column\")\n",
    "g = n[0:1, 0:1]\n",
    "print(g)\n",
    "\n",
    "print(\"Element 90, 2nd row 2nd column\")\n",
    "h = n[2:3, 2:3]\n",
    "print(h)\n",
    "\n",
    "print(\"0th row and 1st row of 1st column and 2nd column\")\n",
    "h = n[0:2, 1:3]\n",
    "print(h)\t"
   ]
  },
  {
   "cell_type": "code",
   "execution_count": null,
   "id": "0ce61ef9-5b1e-47ad-9bf2-aed60cf1eea7",
   "metadata": {},
   "outputs": [
    {
     "name": "stdout",
     "output_type": "stream",
     "text": [
      "\n",
      "a: 219\n",
      "b: 159\n",
      "\n",
      "a: 6350400\n",
      "b: 1625702400\n",
      "\n",
      "a: [5. 9. 7. 8.]\n",
      "b: [[2. 3. 4. 5.]\n",
      " [6. 4. 2. 7.]]\n"
     ]
    }
   ],
   "source": [
    "a = array([25, 81, 49, 64])\n",
    "b = array([[4, 9, 16, 25], [36, 16, 4, 49]])\n",
    "print()\n",
    "#sum() Function\n",
    "print(\"a:\",sum(a))\n",
    "print(\"b:\",sum(b))\n",
    "print()\n",
    "#prod() Function\n",
    "print(\"a:\",prod(a))\n",
    "print(\"b:\",prod(b))\n",
    "print()\n",
    "#sqrt() Function\n",
    "print(\"a:\",sqrt(a))\n",
    "print(\"b:\",sqrt(b))\n"
   ]
  },
  {
   "cell_type": "code",
   "execution_count": 53,
   "id": "a5d68ce5-91fb-45a3-be27-d44361df2f31",
   "metadata": {},
   "outputs": [
    {
     "name": "stdout",
     "output_type": "stream",
     "text": [
      "[1 2 3 4 5 6]\n",
      "[[1 2 3]\n",
      " [4 5 6]]\n",
      "\n",
      "[ 1  2  3  4  5  6  7  8  9 10 11 12]\n",
      "[[[ 1  2]\n",
      "  [ 3  4]\n",
      "  [ 5  6]]\n",
      "\n",
      " [[ 7  8]\n",
      "  [ 9 10]\n",
      "  [11 12]]]\n",
      "\n",
      "[[1 2 3]\n",
      " [4 5 6]]\n",
      "[1 2 3 4 5 6]\n"
     ]
    }
   ],
   "source": [
    "a = array([1, 2, 3, 4, 5, 6])\n",
    "b = reshape(a, (2, 3))\n",
    "print(a)\n",
    "print(b)\n",
    "print()\n",
    "\n",
    "# 1D to 3D\n",
    "c = array([1, 2, 3, 4, 5, 6, 7, 8, 9, 10, 11, 12])\n",
    "d = reshape(c, (2, 3, 2))\n",
    "print(c)\n",
    "print(d)\n",
    "print()\n",
    "\n",
    "#2D to 1D\n",
    "e = array([[1, 2, 3], [4, 5, 6]])\n",
    "f = reshape(e, (6))\n",
    "print(e)\n",
    "print(f)\n"
   ]
  },
  {
   "cell_type": "code",
   "execution_count": 54,
   "id": "f8963ab3-99c9-433e-9779-dfad0d4e5a0d",
   "metadata": {},
   "outputs": [
    {
     "name": "stdout",
     "output_type": "stream",
     "text": [
      "[[1 2 3]\n",
      " [4 5 6]]\n",
      "[1 2 3 4 5 6]\n"
     ]
    }
   ],
   "source": [
    "e = array([[1, 2, 3], [4, 5, 6]])\n",
    "f = e.flatten()\n",
    "print(e)\n",
    "print(f)\n"
   ]
  },
  {
   "cell_type": "code",
   "execution_count": 55,
   "id": "14aacb58-e003-4448-b41a-f91ffb96d542",
   "metadata": {},
   "outputs": [
    {
     "name": "stdout",
     "output_type": "stream",
     "text": [
      "\n",
      "1D Array ndim: 1\n",
      "2D Array ndim: 2\n",
      "\n",
      "1D Array shape: (5,)\n",
      "2D Array shape: (2, 4)\n",
      "1D Array size: 5\n",
      "2D Array size: 8\n",
      "1D Array itemsize: 4\n",
      "2D Array itemsize: 4\n",
      "1D Array dtype: int32\n",
      "2D Array dtype: int32\n",
      "1D Array nbytes: 20\n",
      "2D Array nbytes: 32\n",
      "\n"
     ]
    }
   ],
   "source": [
    "a = array([101, 102, 103, 104, 105])\n",
    "b = array([[10, 20, 30, 40], [50, 60, 70, 80]])\n",
    "print()\n",
    "# ndim Attribute\n",
    "print(\"1D Array ndim:\",a.ndim)\n",
    "print(\"2D Array ndim:\",b.ndim)\n",
    "print()\n",
    "#shape Attribute \n",
    "#For 1D array shape elements in the row\n",
    "#For 2D array shape specifies number of row and column in each row\n",
    "print(\"1D Array shape:\",a.shape)\n",
    "print(\"2D Array shape:\",b.shape)\n",
    "#size Attribute\n",
    "print(\"1D Array size:\",a.size)\n",
    "print(\"2D Array size:\",b.size)\n",
    "#itemsize Attribute\n",
    "print(\"1D Array itemsize:\",a.itemsize)\n",
    "print(\"2D Array itemsize:\",b.itemsize)\n",
    "#dtype Attribute\n",
    "print(\"1D Array dtype:\",a.dtype)\n",
    "print(\"2D Array dtype:\",b.dtype)\n",
    "#nbytes Attribute\n",
    "print(\"1D Array nbytes:\",a.nbytes)\n",
    "print(\"2D Array nbytes:\",b.nbytes)\n",
    "print()"
   ]
  },
  {
   "cell_type": "code",
   "execution_count": null,
   "id": "2946863e-8043-4e6b-818c-d840cbe2fb24",
   "metadata": {},
   "outputs": [],
   "source": []
  },
  {
   "cell_type": "code",
   "execution_count": null,
   "id": "d40ee989-3784-45cf-bf6c-238be724ec9a",
   "metadata": {},
   "outputs": [],
   "source": []
  },
  {
   "cell_type": "code",
   "execution_count": null,
   "id": "960706ee-f18a-4657-b1c5-d85c623ccbe0",
   "metadata": {},
   "outputs": [],
   "source": []
  },
  {
   "cell_type": "code",
   "execution_count": null,
   "id": "540aa51d-61cc-413b-9fe6-ddfdae8142eb",
   "metadata": {},
   "outputs": [],
   "source": []
  }
 ],
 "metadata": {
  "kernelspec": {
   "display_name": "Python 3 (ipykernel)",
   "language": "python",
   "name": "python3"
  },
  "language_info": {
   "codemirror_mode": {
    "name": "ipython",
    "version": 3
   },
   "file_extension": ".py",
   "mimetype": "text/x-python",
   "name": "python",
   "nbconvert_exporter": "python",
   "pygments_lexer": "ipython3",
   "version": "3.12.4"
  }
 },
 "nbformat": 4,
 "nbformat_minor": 5
}
