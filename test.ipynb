{
 "cells": [
  {
   "cell_type": "code",
   "execution_count": 1,
   "metadata": {},
   "outputs": [
    {
     "name": "stdout",
     "output_type": "stream",
     "text": [
      "Model: RealMe X\n",
      "Finger Print: Yes\n"
     ]
    }
   ],
   "source": [
    "class Mobile:\n",
    "\tfp = 'Yes'\t# Class Variable\n",
    "\t\n",
    "\tdef __init__(self):\n",
    "\t\tself.model = 'RealMe X'\t# Creating Instance Variable\n",
    "\t\n",
    "\tdef show_model(self):\t\t   # Instance Method\n",
    "\t\tprint(\"Model:\",self.model) # Accessing Instance Variable\n",
    "\t\t\n",
    "\t@classmethod # Class Method\n",
    "\tdef is_fp(cls):\n",
    "\t\tprint(\"Finger Print:\", cls.fp)\t# Accessing Class Variable\n",
    "\n",
    "\t\t\n",
    "realme = Mobile() # creating object\n",
    "realme.show_model() # object.method\n",
    "Mobile.is_fp() # class.classmethod"
   ]
  },
  {
   "cell_type": "code",
   "execution_count": 2,
   "metadata": {},
   "outputs": [
    {
     "name": "stdout",
     "output_type": "stream",
     "text": [
      "Class FP: Yes\n",
      "RealMe: Yes\n",
      "Redmi: Yes\n",
      "Geek: Yes\n",
      "\n",
      "Class FP: No\n",
      "RealMe: No\n",
      "Redmi: No\n",
      "Geek: No\n",
      "\n",
      "Class FP: No\n",
      "RealMe: Not Working\n",
      "Redmi: No\n",
      "Geek: No\n",
      "\n"
     ]
    }
   ],
   "source": [
    "class Mobile:\n",
    "\tfp = 'Yes'\t\t\t\t\t\t\t\t# Class Variable which belongs to namespace of Mobile Class\n",
    "\t\t\n",
    "\t@classmethod\t\t\t\t\t\t\t# Class Method\n",
    "\tdef is_fp(cls):\n",
    "\t\tprint(\"Finger Print:\", cls.fp)\t\t# Accessing Class Variable\n",
    "\n",
    "\t\t\n",
    "realme = Mobile()\n",
    "redmi = Mobile()\n",
    "geek = Mobile()\n",
    "\n",
    "print(\"Class FP:\", Mobile.fp) # class.classvariable\n",
    "print(\"RealMe:\", realme.fp)   # object.classvariable\n",
    "print(\"Redmi:\", redmi.fp)\n",
    "print(\"Geek:\", geek.fp)\n",
    "\n",
    "print()\n",
    "Mobile.fp = 'No'\t# Modifying Class Variable using Class\n",
    "print(\"Class FP:\", Mobile.fp)\n",
    "print(\"RealMe:\", realme.fp)\n",
    "print(\"Redmi:\", redmi.fp)\n",
    "print(\"Geek:\", geek.fp)\n",
    "print()\n",
    "realme.fp = 'Not Working'\t# Modifying Class Variable using object\n",
    "print(\"Class FP:\", Mobile.fp)\n",
    "print(\"RealMe:\", realme.fp)\n",
    "print(\"Redmi:\", redmi.fp)\n",
    "print(\"Geek:\", geek.fp)\n",
    "print()"
   ]
  },
  {
   "cell_type": "code",
   "execution_count": 3,
   "metadata": {},
   "outputs": [
    {
     "name": "stdout",
     "output_type": "stream",
     "text": [
      "RealMe X\n",
      "RealMe 2\n"
     ]
    }
   ],
   "source": [
    "class Mobile:\n",
    "\tdef __init__(self):\n",
    "\t\tself.model = 'RealMe X'\t# Instance Variable\n",
    "\t\n",
    "\tdef set_model(self): # Mutator Method\t\t\t\t\n",
    "\t\tself.model = 'RealMe 2'\t\t\t\n",
    "\n",
    "realme = Mobile()\n",
    "# Before setting\n",
    "print(realme.model)\n",
    "# After Setting\n",
    "realme.set_model() # Calling Mutator Method\n",
    "print(realme.model)"
   ]
  },
  {
   "cell_type": "code",
   "execution_count": 5,
   "metadata": {},
   "outputs": [
    {
     "name": "stdout",
     "output_type": "stream",
     "text": [
      "RealMe X\n"
     ]
    }
   ],
   "source": [
    "class Mobile:\n",
    "\t@classmethod\n",
    "\tdef show_model(cls):\t\t\t# Class Method\n",
    "\t\tprint(\"RealMe X\")\n",
    "\n",
    "realme = Mobile()\n",
    "Mobile.show_model()\t\t\t\t\t# Calling Class Method\n",
    "# class.classmethod"
   ]
  },
  {
   "cell_type": "code",
   "execution_count": 8,
   "metadata": {},
   "outputs": [
    {
     "name": "stdout",
     "output_type": "stream",
     "text": [
      "Model: RealMe X Price: 1000\n",
      "1000\n"
     ]
    }
   ],
   "source": [
    "class Mobile:\n",
    "    def __init__(self):\n",
    "        self.model = 'RealMe X'    # Instance Variable\n",
    "\n",
    "    def show_model(self, p):       # Instance Method with Parameter\n",
    "        self.price = p                 # Creating a local variable called 'price'\n",
    "        # Accessing Instance Variable\n",
    "        print(\"Model:\", self.model, \"Price:\", self.price)\n",
    "\n",
    "\n",
    "# Creating an instance of the Mobile class\n",
    "realme = Mobile()\n",
    "\n",
    "# Calling the show_model method with price as a parameter\n",
    "realme.show_model(1000)\n",
    "\n",
    "# Accessing price directly\n",
    "# This will raise a NameError because price is only defined within the method scope\n",
    "try:\n",
    "    print(realme.price)\n",
    "except NameError as e:\n",
    "    print(\"NameError:\", e)\n"
   ]
  },
  {
   "cell_type": "code",
   "execution_count": 9,
   "metadata": {},
   "outputs": [
    {
     "name": "stdout",
     "output_type": "stream",
     "text": [
      "User Name: Rahul\n",
      "User Roll: 101\n",
      "Student Name: Rahul\n",
      "Student Roll: 101\n"
     ]
    }
   ],
   "source": [
    "class Student:\n",
    "\t# Constructor\n",
    "\tdef __init__(self, n, r):\n",
    "\t\tself.name = n\n",
    "\t\tself.roll = r\n",
    "\t\t\n",
    "\t# Instance Method\n",
    "\tdef disp(self):\n",
    "\t\tprint(\"Student Name:\", self.name)\n",
    "\t\tprint(\"Student Roll:\", self.roll)\n",
    "\t\t\n",
    "class User:\n",
    "\t# Static Method\n",
    "\t@staticmethod\n",
    "\tdef show(s):\n",
    "\t\tprint(\"User Name:\", s.name)\n",
    "\t\tprint(\"User Roll:\", s.roll)\n",
    "\t\ts.disp()\n",
    "\t\t\n",
    "# Creating Object of Student Class\n",
    "stu = Student('Rahul', 101)\n",
    "\n",
    "# Calling Static Method of User Class and passing object stu as argument\n",
    "User.show(stu)"
   ]
  },
  {
   "cell_type": "code",
   "execution_count": 10,
   "metadata": {},
   "outputs": [
    {
     "name": "stdout",
     "output_type": "stream",
     "text": [
      "Rahul\n",
      "\n",
      "Name: Rahul\n",
      "\n",
      "<__main__.Army.Gun object at 0x000001D85FF132C0>\n",
      "AK47\n",
      "AK47\n",
      "75 Rounds\n",
      "34.3 In\n",
      "\n",
      "Gun Name: AK47\n",
      "Capacity: 75 Rounds\n",
      "Length: 34.3 In\n"
     ]
    }
   ],
   "source": [
    "class Army:\t\t\t\t\t\t\t# Outer Class\n",
    "\tdef __init__(self):\n",
    "\t\tself.name='Rahul'\n",
    "\t\tself.gn = self.Gun()\t\t# Creating Inner Class Object\n",
    "\t\t\n",
    "\tdef show(self):\n",
    "\t\tprint(\"Name:\", self.name)\n",
    "\t\t\n",
    "\tclass Gun:\t\t\t\t\t\t# Inner Class\n",
    "\t\tdef __init__ (self):\n",
    "\t\t\tself.name = 'AK47'\n",
    "\t\t\tself.capacity = '75 Rounds'\n",
    "\t\t\tself.length = '34.3 In'\n",
    "\t\t\t\n",
    "\t\tdef disp(self):\n",
    "\t\t\tprint(\"Gun Name:\", self.name)\n",
    "\t\t\tprint(\"Capacity:\", self.capacity)\n",
    "\t\t\tprint(\"Length:\", self.length)\n",
    "\n",
    "a = Army()\t\t\t\t\t\t\t# Creating Outer Class Object\n",
    "print(a.name)\n",
    "print()\n",
    "a.show()\n",
    "\n",
    "print()\n",
    "print(a.gn)\n",
    "print(a.gn.name)\n",
    "g = a.gn\n",
    "print(g.name)\n",
    "print(g.capacity)\n",
    "print(g.length)\n",
    "print()\n",
    "g.disp()"
   ]
  },
  {
   "cell_type": "code",
   "execution_count": 12,
   "metadata": {},
   "outputs": [
    {
     "name": "stdout",
     "output_type": "stream",
     "text": [
      "Rahul\n",
      "\n",
      "Name: Rahul\n",
      "\n",
      "AK47\n",
      "75 Rounds\n",
      "34.3 In\n",
      "\n",
      "Gun Name: AK47\n",
      "Capacity: 75 Rounds\n",
      "Length: 34.3 In\n"
     ]
    }
   ],
   "source": [
    "class Army:\t\t\t\t\t\t\t# Outer Class\n",
    "\tdef __init__(self):\n",
    "\t\tself.name='Rahul'\n",
    "\t\t\n",
    "\tdef show(self):\n",
    "\t\tprint(\"Name:\", self.name)\n",
    "\t\t\n",
    "\tclass Gun:\t\t\t\t\t\t# Inner Class\n",
    "\t\tdef __init__ (self):\n",
    "\t\t\tself.name = 'AK47'\n",
    "\t\t\tself.capacity = '75 Rounds'\n",
    "\t\t\tself.length = '34.3 In'\n",
    "\t\t\t\n",
    "\t\tdef disp(self):\n",
    "\t\t\tprint(\"Gun Name:\", self.name)\n",
    "\t\t\tprint(\"Capacity:\", self.capacity)\n",
    "\t\t\tprint(\"Length:\", self.length)\n",
    "\n",
    "a = Army()\t\t\t\t\t\t\t# Creating Outer Class Object\n",
    "print(a.name)\n",
    "print()\n",
    "a.show()\n",
    "\n",
    "print()\n",
    "g = Army().Gun()\t\t\t\t\t# Creating Inner Class Object\n",
    "print(g.name)\n",
    "print(g.capacity)\n",
    "print(g.length)\n",
    "print()\n",
    "g.disp()\n"
   ]
  },
  {
   "cell_type": "code",
   "execution_count": 13,
   "metadata": {},
   "outputs": [
    {
     "name": "stdout",
     "output_type": "stream",
     "text": [
      "Child Class Instance Method\n",
      "Parent Class Instance Method\n",
      "Parent Class Class Method: 1000\n",
      "Parent Class Static Method: 10\n"
     ]
    }
   ],
   "source": [
    "class Father:\t\t\t\t\t# Parent Class\n",
    "\tmoney = 1000\n",
    "\t\n",
    "\tdef show(self):\n",
    "\t\tprint(\"Parent Class Instance Method\")\n",
    "\t\t\n",
    "\t@classmethod\n",
    "\tdef showmoney(cls):\n",
    "\t\tprint(\"Parent Class Class Method:\", cls.money)\n",
    "\t\t\n",
    "\t@staticmethod\n",
    "\tdef stat():\n",
    "\t\ta = 10\n",
    "\t\tprint(\"Parent Class Static Method:\", a)\n",
    "\t\t\n",
    "class Son(Father):\t\t\t\t# Child Class\n",
    "\tdef disp(self):\n",
    "\t\tprint(\"Child Class Instance Method\")\n",
    "\n",
    "s = Son()\n",
    "s.disp()\n",
    "s.show()\n",
    "s.showmoney()\n",
    "s.stat()"
   ]
  },
  {
   "cell_type": "code",
   "execution_count": 14,
   "metadata": {},
   "outputs": [
    {
     "name": "stdout",
     "output_type": "stream",
     "text": [
      "Father Class Constructor\n",
      "Son Class Instance Method 1000\n",
      "Father Instance Variable: 1000\n",
      "Father Class Instance Method\n"
     ]
    }
   ],
   "source": [
    "# Constructor in Inheritance\n",
    "class Father:\t\t\t\t\t# Parent Class\n",
    "\tdef __init__(self):\n",
    "\t\tself.money = 1000\n",
    "\t\tprint(\"Father Class Constructor\")\n",
    "\t\t\n",
    "\tdef show(self):\n",
    "\t\tprint(\"Father Class Instance Method\")\n",
    "\t\t\n",
    "\t\t\n",
    "class Son(Father):\t\t\t\t# Child Class\n",
    "\tdef disp(self):\n",
    "\t\tprint(\"Son Class Instance Method\", self.money)\n",
    "\n",
    "s = Son()\n",
    "s.disp()\n",
    "print(\"Father Instance Variable:\", s.money)\n",
    "s.show()\n"
   ]
  },
  {
   "cell_type": "code",
   "execution_count": 15,
   "metadata": {},
   "outputs": [
    {
     "name": "stdout",
     "output_type": "stream",
     "text": [
      "Son Class Constructor\n",
      "5000\n",
      "BMW\n",
      "Son Class Instance Method\n",
      "Father Class Instance Method\n"
     ]
    }
   ],
   "source": [
    "class Father:\t\t\t\t\t# Parent Class\n",
    "\tdef __init__(self):\n",
    "\t\tself.money = 1000\n",
    "\t\tprint(\"Father Class Constructor\")\n",
    "\t\t\n",
    "\tdef show(self):\n",
    "\t\tprint(\"Father Class Instance Method\")\n",
    "\t\t\n",
    "\t\t\n",
    "class Son(Father):\t\t\t\t# Child Class\n",
    "\tdef __init__(self):\n",
    "\t\tself.money = 5000\n",
    "\t\tself.car = 'BMW'\n",
    "\t\tprint(\"Son Class Constructor\")\n",
    "\t\t\n",
    "\tdef disp(self):\n",
    "\t\tprint(\"Son Class Instance Method\")\n",
    "\n",
    "s = Son()\n",
    "print(s.money)\n",
    "print(s.car)\n",
    "s.disp()\n",
    "s.show()"
   ]
  },
  {
   "cell_type": "code",
   "execution_count": 16,
   "metadata": {},
   "outputs": [
    {
     "name": "stdout",
     "output_type": "stream",
     "text": [
      "thapak thapak thapak thapak\n",
      "tabdak tabdak tabdak tabdak\n"
     ]
    },
    {
     "ename": "AttributeError",
     "evalue": "'Cat' object has no attribute 'walk'",
     "output_type": "error",
     "traceback": [
      "\u001b[1;31m---------------------------------------------------------------------------\u001b[0m",
      "\u001b[1;31mAttributeError\u001b[0m                            Traceback (most recent call last)",
      "Cell \u001b[1;32mIn[16], line 23\u001b[0m\n\u001b[0;32m     20\u001b[0m myfunction(h)\n\u001b[0;32m     22\u001b[0m c \u001b[38;5;241m=\u001b[39m Cat()\n\u001b[1;32m---> 23\u001b[0m myfunction(c)\n",
      "Cell \u001b[1;32mIn[16], line 14\u001b[0m, in \u001b[0;36mmyfunction\u001b[1;34m(obj)\u001b[0m\n\u001b[0;32m     13\u001b[0m \u001b[38;5;28;01mdef\u001b[39;00m \u001b[38;5;21mmyfunction\u001b[39m(obj):\n\u001b[1;32m---> 14\u001b[0m \tobj\u001b[38;5;241m.\u001b[39mwalk()\n",
      "\u001b[1;31mAttributeError\u001b[0m: 'Cat' object has no attribute 'walk'"
     ]
    }
   ],
   "source": [
    "class Duck:\n",
    "\tdef walk(self):\n",
    "\t\tprint(\"thapak thapak thapak thapak\")\n",
    "\n",
    "class Horse:\n",
    "\tdef walk(self):\n",
    "\t\tprint(\"tabdak tabdak tabdak tabdak\")\n",
    "\t\t\n",
    "class Cat:\n",
    "\tdef talk(self):\n",
    "\t\tprint(\"Meow Meow\")\n",
    "\t\t\n",
    "def myfunction(obj):\n",
    "\tobj.walk()\n",
    "\t\n",
    "d = Duck()\n",
    "myfunction(d)\n",
    "\n",
    "h = Horse()\n",
    "myfunction(h)\n",
    "\n",
    "c = Cat()\n",
    "myfunction(c)"
   ]
  },
  {
   "cell_type": "code",
   "execution_count": 17,
   "metadata": {},
   "outputs": [
    {
     "name": "stdout",
     "output_type": "stream",
     "text": [
      "thapak thapak thapak thapak\n",
      "tabdak tabdak tabdak tabdak\n",
      "Meow Meow\n"
     ]
    }
   ],
   "source": [
    "class Duck:\n",
    "\tdef walk(self):\n",
    "\t\tprint(\"thapak thapak thapak thapak\")\n",
    "\n",
    "class Horse:\n",
    "\tdef walk(self):\n",
    "\t\tprint(\"tabdak tabdak tabdak tabdak\")\n",
    "\t\t\n",
    "class Cat:\n",
    "\tdef talk(self):\n",
    "\t\tprint(\"Meow Meow\")\n",
    "\t\t\n",
    "def myfunction(obj):\n",
    "\tif hasattr(obj, 'walk'):\n",
    "\t\tobj.walk()\n",
    "\tif hasattr(obj, 'talk'):\n",
    "\t\tobj.talk()\n",
    "\t\n",
    "d = Duck()\n",
    "myfunction(d)\n",
    "\n",
    "h = Horse()\n",
    "myfunction(h)\n",
    "\n",
    "c = Cat()\n",
    "myfunction(c)"
   ]
  },
  {
   "cell_type": "code",
   "execution_count": 18,
   "metadata": {},
   "outputs": [
    {
     "name": "stdout",
     "output_type": "stream",
     "text": [
      "Multiplication: 200\n",
      "Addition: 30\n"
     ]
    }
   ],
   "source": [
    "class Add:\n",
    "\tdef result(self, a, b):\n",
    "\t\tprint('Addition:', a+b)\n",
    "\t\t\n",
    "class Multi(Add):\n",
    "\tdef result(self, a, b):\n",
    "\t\tprint('Multiplication:', a*b)\n",
    "\t\t\n",
    "m = Multi()\n",
    "m.result(10, 20)\n",
    "\n",
    "m = Add()\n",
    "m.result(10, 20)"
   ]
  },
  {
   "cell_type": "code",
   "execution_count": 19,
   "metadata": {},
   "outputs": [
    {
     "name": "stdout",
     "output_type": "stream",
     "text": [
      "11\n",
      "30\n"
     ]
    }
   ],
   "source": [
    "class add:\n",
    "    def result(self, a, b):\n",
    "\t    print(a+b)\t\n",
    "\n",
    "class main(add):\n",
    "    def result(self, a, b):\n",
    "           super().result(a,b)\n",
    "           return a*b\n",
    "\n",
    "\n",
    "x = main()\n",
    "y= x.result(5,6)\n",
    "print(y)"
   ]
  },
  {
   "cell_type": "code",
   "execution_count": null,
   "metadata": {},
   "outputs": [],
   "source": []
  }
 ],
 "metadata": {
  "kernelspec": {
   "display_name": "Python 3",
   "language": "python",
   "name": "python3"
  },
  "language_info": {
   "codemirror_mode": {
    "name": "ipython",
    "version": 3
   },
   "file_extension": ".py",
   "mimetype": "text/x-python",
   "name": "python",
   "nbconvert_exporter": "python",
   "pygments_lexer": "ipython3",
   "version": "3.12.4"
  }
 },
 "nbformat": 4,
 "nbformat_minor": 2
}
